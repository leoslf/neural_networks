{
 "cells": [
  {
   "cell_type": "markdown",
   "id": "b326d13d",
   "metadata": {},
   "source": [
    "# Making Networks\n",
    "\n",
    "## Stacking\n",
    "\n",
    "- Parallel Stacking\n",
    "- Sequential Stacking\n",
    "\n",
    "## Nomenclature\n",
    "\n",
    "- 5-3-4-1 Network\n",
    "\n",
    "## Feed-Forward Network\n",
    "\n",
    "- One-directional Processing\n",
    " \n",
    "## Fully-Connected Network\n",
    "\n",
    "- Output from a neuron goes to all neurons in the next layer\n",
    "\n",
    "# Gradient Descent\n",
    "\n",
    "1. Initialization: Randomize $w$, $b$\n",
    "2. Forward Propagation: Calculate Output (Cost) using these values\n",
    "3. Estimate error using the Loss function\n",
    "4. Backward Propagation: Find the values and update for $w$ and $b$ that can reduce the error\n",
    "5. Repeat from step 2 until the error is acceptable\n",
    "\n",
    "## Cross-Entropy error function\n",
    "$$ H(y, y') = -y \\log(y') - (1 - y) \\log(1 - y') $$\n",
    "\n",
    "## Back Propagation\n",
    "$$ \\begin{align*}\n",
    "    w &= w - \\alpha \\Delta w \\\\\n",
    "    b &= b - \\alpha \\Delta b\n",
    "  \\end{align*} $$\n",
    "  \n",
    "  \n",
    "## Common Activation Functions\n",
    "\n",
    "- Step\n",
    "- Sigmoid $\\sigma(z) = \\frac{1}{1 + e^{-z}}$\n",
    "- tanh\n",
    "- ReLU $\\max(0, z)$"
   ]
  },
  {
   "cell_type": "markdown",
   "id": "dd63d47d",
   "metadata": {},
   "source": [
    "## Multi-class Classification\n",
    "- Softmax = "
   ]
  },
  {
   "cell_type": "markdown",
   "id": "98b03080",
   "metadata": {},
   "source": [
    "# Gradient Descent\n",
    "- Gradient Descent: forward and backward propagation for full training set\n",
    "- Stockastic Gradient Descent: forward and backward propagation per training record\n",
    "- Mini-batch Stochastic Gradient Descent: small-batch at a time\n",
    "\n",
    "# Epoch: one cycle through the whole training set\n",
    "\n",
    "\n",
    "# Hyperparameters\n",
    "\n",
    "## Classifications\n",
    "| Hyperparameters                  | Binary Classification | Multi-label binary classification | Multi-class classifiction |\n",
    "|----------------------------------|-----------------------|-----------------------------------|--------------------------|\n",
    "| No. of hidden layers             | depends on question, typically 1 - 5 |\n",
    "| Hidden Activation function       | ReLU |\n",
    "| Output dimensions                | 1 | No. of labels | No. of class |\n",
    "| Output layer Activation function | Logistic | Logistic | Softmax |\n",
    "| Loss Function                    | Cross-Entropy |\n",
    "\n",
    "## Regressions\n",
    "| Hyperparameters                  | Regression |\n",
    "|----------------------------------|-----------------------|\n",
    "| No. of hidden layers             | depends on question, typically 1 - 5 |\n",
    "| No. of neurons per hidden layer  | depends on question, typically 10 - 100 |\n",
    "| Hidden Activation function       | ReLU |\n",
    "| Output dimensions                | 1 |\n",
    "| Output layer Activation function | None |\n",
    "| Loss Function                    | Mean-Squared Error (MSE) |"
   ]
  },
  {
   "cell_type": "markdown",
   "id": "c8711498",
   "metadata": {},
   "source": [
    "# Framework vs Architecture\n",
    "\n",
    "| Level          | Library                              |\n",
    "|----------------|--------------------------------------|\n",
    "| Model Level    | Keras                                |\n",
    "| Lower Level    | Tensorflow / Theano / CNTK ...       |\n",
    "| Driver Level   | GPU: CUDA / cuDNN, CPU: BLAS / Eigen |"
   ]
  },
  {
   "cell_type": "markdown",
   "id": "a6d80836",
   "metadata": {},
   "source": [
    "# Image Classifier with ANN"
   ]
  },
  {
   "cell_type": "code",
   "execution_count": null,
   "id": "ab0779d4",
   "metadata": {},
   "outputs": [],
   "source": []
  }
 ],
 "metadata": {
  "kernelspec": {
   "display_name": "Python 3 (ipykernel)",
   "language": "python",
   "name": "python3"
  },
  "language_info": {
   "codemirror_mode": {
    "name": "ipython",
    "version": 3
   },
   "file_extension": ".py",
   "mimetype": "text/x-python",
   "name": "python",
   "nbconvert_exporter": "python",
   "pygments_lexer": "ipython3",
   "version": "3.9.5"
  }
 },
 "nbformat": 4,
 "nbformat_minor": 5
}
